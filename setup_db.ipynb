{
 "cells": [
  {
   "cell_type": "code",
   "execution_count": 1,
   "id": "e5e21d20-7da7-4a7b-8b1c-e65d5b20ae31",
   "metadata": {},
   "outputs": [
    {
     "name": "stdout",
     "output_type": "stream",
     "text": [
      "3.45.3\n"
     ]
    }
   ],
   "source": [
    "import sqlite3\n",
    "print(sqlite3.sqlite_version)"
   ]
  },
  {
   "cell_type": "code",
   "execution_count": 5,
   "id": "9c83cefd-9dcf-41ac-ae63-a3e60587b1f1",
   "metadata": {},
   "outputs": [
    {
     "name": "stdout",
     "output_type": "stream",
     "text": [
      "Database created successfully!\n",
      "Employees:\n",
      " [(1, 'Alice', 'Sales', 50000, '2021-01-15'), (2, 'Bob', 'Engineering', 70000, '2020-06-10'), (3, 'Charlie', 'Marketing', 60000, '2022-03-20')]\n",
      "\n",
      "Departments:\n",
      " [(1, 'Sales', 'Alice'), (2, 'Engineering', 'Bob'), (3, 'Marketing', 'Charlie')]\n",
      "Database setup completed!\n"
     ]
    }
   ],
   "source": [
    "\n",
    "def create_database():\n",
    "    conn = sqlite3.connect(\"company.db\")\n",
    "    cursor = conn.cursor()\n",
    "\n",
    "    print(\"Database created successfully!\")\n",
    "\n",
    "    # Create Employees table\n",
    "    cursor.execute('''CREATE TABLE IF NOT EXISTS Employees (\n",
    "                        ID INTEGER PRIMARY KEY AUTOINCREMENT,\n",
    "                        Name TEXT NOT NULL,\n",
    "                        Department TEXT NOT NULL,\n",
    "                        Salary INTEGER NOT NULL,\n",
    "                        Hire_Date TEXT NOT NULL\n",
    "                    )''')\n",
    "\n",
    "    # Create Departments table\n",
    "    cursor.execute('''CREATE TABLE IF NOT EXISTS Departments (\n",
    "                        ID INTEGER PRIMARY KEY AUTOINCREMENT,\n",
    "                        Name TEXT NOT NULL,\n",
    "                        Manager TEXT NOT NULL\n",
    "                    )''')\n",
    "\n",
    "    # Insert sample data\n",
    "    cursor.executemany('''INSERT INTO Employees (Name, Department, Salary, Hire_Date) VALUES (?, ?, ?, ?)''', [\n",
    "        (\"Alice\", \"Sales\", 50000, \"2021-01-15\"),\n",
    "        (\"Bob\", \"Engineering\", 70000, \"2020-06-10\"),\n",
    "        (\"Charlie\", \"Marketing\", 60000, \"2022-03-20\"),\n",
    "    ])\n",
    "\n",
    "    cursor.executemany('''INSERT INTO Departments (Name, Manager) VALUES (?, ?)''', [\n",
    "        (\"Sales\", \"Alice\"),\n",
    "        (\"Engineering\", \"Bob\"),\n",
    "        (\"Marketing\", \"Charlie\"),\n",
    "    ])\n",
    "\n",
    "    conn.commit()\n",
    "\n",
    "    # Fetch Employees Data\n",
    "    cursor.execute(\"SELECT * FROM Employees\")\n",
    "    employees = cursor.fetchall()\n",
    "    print(\"Employees:\\n\", employees)\n",
    "\n",
    "    # Fetch Departments Data\n",
    "    cursor.execute(\"SELECT * FROM Departments\")\n",
    "    departments = cursor.fetchall()\n",
    "    print(\"\\nDepartments:\\n\", departments)\n",
    "\n",
    "\n",
    "    \n",
    "    conn.close()\n",
    "    print(\"Database setup completed!\")\n",
    "\n",
    "if __name__ == \"__main__\":\n",
    "    create_database()\n"
   ]
  },
  {
   "cell_type": "code",
   "execution_count": null,
   "id": "c577b5c3-d562-42a0-bd61-14eb9e2b78ac",
   "metadata": {},
   "outputs": [],
   "source": []
  }
 ],
 "metadata": {
  "kernelspec": {
   "display_name": "Python 3 (ipykernel)",
   "language": "python",
   "name": "python3"
  },
  "language_info": {
   "codemirror_mode": {
    "name": "ipython",
    "version": 3
   },
   "file_extension": ".py",
   "mimetype": "text/x-python",
   "name": "python",
   "nbconvert_exporter": "python",
   "pygments_lexer": "ipython3",
   "version": "3.11.10"
  }
 },
 "nbformat": 4,
 "nbformat_minor": 5
}
