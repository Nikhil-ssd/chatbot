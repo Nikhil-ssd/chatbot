{
 "cells": [
  {
   "cell_type": "code",
   "execution_count": null,
   "id": "31f8b520-c67f-4ed5-a009-3ec09454e693",
   "metadata": {},
   "outputs": [],
   "source": [
    "import re\n",
    "import sqlite3\n",
    "import spacy\n",
    "nlp = spacy.load(\"en_core_web_sm\")\n",
    "\n",
    "\n",
    "def extract_departments(user_input):\n",
    "    # List of departments you are working with\n",
    "    departments = ['Sales', 'Engineering', 'Marketing']  # Add any other departments here\n",
    "    found_departments = [dept for dept in departments if dept.lower() in user_input.lower()]\n",
    "    return found_departments\n",
    "\n",
    "def get_sql_query(user_input):\n",
    "    \"\"\"Converts user query into an SQL query.\"\"\"\n",
    "    doc = nlp(user_input.lower())\n",
    "\n",
    "    # Identify department names\n",
    "    department_names = [\"sales\", \"engineering\", \"marketing\"]\n",
    "    department = next((token.text.capitalize() for token in doc if token.text.lower() in department_names), None)\n",
    "\n",
    "    # Identify date\n",
    "    date = next((token.text for token in doc if token.ent_type_ == \"DATE\"), None)\n",
    "\n",
    "    # Identify query type\n",
    "    if \"employees\" in user_input and department:\n",
    "        return f\"SELECT * FROM Employees WHERE Department = '{department}';\"\n",
    "    \n",
    "    if \"manager\" in user_input and department:\n",
    "        return f\"SELECT Manager FROM Departments WHERE Name = '{department}';\"\n",
    "    \n",
    "    if \"hired after\" in user_input and date:\n",
    "        return f\"SELECT * FROM Employees WHERE Hire_Date > '{date}';\"\n",
    "    \n",
    "    if \"total salary expense\" in user_input and department:\n",
    "        return f\"SELECT SUM(Salary) FROM Employees WHERE Department = '{department}';\"\n",
    "\n",
    "     if \"total salary expense\" in user_input and \"all\" in user_input:\n",
    "        return f\"SELECT SUM(Salary) FROM Employees;\"\n",
    "\n",
    "    if \"total salary expense\" in user_input and department and \"and\" in user_input:\n",
    "        # Extract the departments mentioned in the query\n",
    "        departments = extract_departments(user_input)  # This function will parse the departments from the user input\n",
    "        if len(departments) > 1:\n",
    "            department_list = \"', '\".join(departments)  # Prepare departments for the query\n",
    "            return f\"SELECT SUM(Salary) FROM Employees WHERE Department IN ('{department_list}');\"\n",
    "\n",
    "    return None\n",
    "\n",
    "def execute_query(sql):\n",
    "    \"\"\"Executes SQL query and fetches results.\"\"\"\n",
    "    conn = sqlite3.connect(\"company.db\")\n",
    "    cursor = conn.cursor()\n",
    "    cursor.execute(sql)\n",
    "    result = cursor.fetchall()\n",
    "    conn.close()\n",
    "    return result\n"
   ]
  },
  {
   "cell_type": "code",
   "execution_count": null,
   "id": "df02fab5-76e3-481c-bd64-902bba8e2904",
   "metadata": {},
   "outputs": [],
   "source": []
  }
 ],
 "metadata": {
  "kernelspec": {
   "display_name": "Python 3 (ipykernel)",
   "language": "python",
   "name": "python3"
  },
  "language_info": {
   "codemirror_mode": {
    "name": "ipython",
    "version": 3
   },
   "file_extension": ".py",
   "mimetype": "text/x-python",
   "name": "python",
   "nbconvert_exporter": "python",
   "pygments_lexer": "ipython3",
   "version": "3.11.10"
  }
 },
 "nbformat": 4,
 "nbformat_minor": 5
}
